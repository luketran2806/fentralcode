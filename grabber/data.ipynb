{
 "cells": [
  {
   "cell_type": "code",
   "execution_count": 1,
   "id": "c7e1bace",
   "metadata": {},
   "outputs": [],
   "source": [
    "import os\n",
    "import pandas as pd\n"
   ]
  },
  {
   "cell_type": "code",
   "execution_count": null,
   "id": "d3bcf962",
   "metadata": {},
   "outputs": [],
   "source": [
    "# List to hold DataFrames from all CSVs\n",
    "dfs = []\n",
    "\n",
    "# Loop through all files in the current directory\n",
    "for filename in os.listdir():\n",
    "    if filename.endswith('.csv'):\n",
    "        # Read the CSV file directly\n",
    "        df = pd.read_csv(filename)\n",
    "        \n",
    "        # Check if the required columns exist, then extract them\n",
    "        if {'Product Name', 'Product URL', 'Scraped Image URL'}.issubset(df.columns):\n",
    "            df_filtered = df[['Product Name', 'Product URL', 'Scraped Image URL']]\n",
    "            dfs.append(df_filtered)\n",
    "        else:\n",
    "            print(f\"Columns not found in {filename}\")\n",
    "\n",
    "# Concatenate all DataFrames into one\n",
    "if dfs:\n",
    "    combined_df = pd.concat(dfs, ignore_index=True)\n",
    "\n",
    "    # Save the result to a new CSV\n",
    "    combined_df.to_csv('combined_output.csv', index=False)\n",
    "    print('Combined CSV saved as combined_output.csv')\n",
    "else:\n",
    "    print('No valid CSV files found with required columns.')"
   ]
  },
  {
   "cell_type": "code",
   "execution_count": 2,
   "id": "d114145c",
   "metadata": {},
   "outputs": [
    {
     "name": "stdout",
     "output_type": "stream",
     "text": [
      "Columns in frankie_product_data.csv: Index(['Product Name', 'Color', 'Product URL', 'Unique Color ID',\n",
      "       ' Swatch Image URL', ' Scraped Image URL'],\n",
      "      dtype='object')\n"
     ]
    }
   ],
   "source": [
    "df = pd.read_csv('maje_product_data.csv')\n",
    "\n",
    "# Display the columns in the CSV\n",
    "print(\"Columns in frankie_product_data.csv:\", df.columns)\n"
   ]
  },
  {
   "cell_type": "code",
   "execution_count": 3,
   "id": "6aaba5d0",
   "metadata": {},
   "outputs": [
    {
     "name": "stdout",
     "output_type": "stream",
     "text": [
      "Columns in frankie_product_data.csv: Index(['Product Name', 'Color', 'Product URL', 'Unique Color ID',\n",
      "       'Scraped Available Sizes', 'Scraped Image URL', 'Price Before',\n",
      "       'Price After'],\n",
      "      dtype='object')\n"
     ]
    }
   ],
   "source": [
    "df = pd.read_csv('frankie_product_data.csv')\n",
    "\n",
    "# Display the columns in the CSV\n",
    "print(\"Columns in frankie_product_data.csv:\", df.columns)\n"
   ]
  },
  {
   "cell_type": "code",
   "execution_count": null,
   "id": "2f1fd8c5",
   "metadata": {},
   "outputs": [],
   "source": []
  }
 ],
 "metadata": {
  "kernelspec": {
   "display_name": "Python 3 (ipykernel)",
   "language": "python",
   "name": "python3"
  },
  "language_info": {
   "codemirror_mode": {
    "name": "ipython",
    "version": 3
   },
   "file_extension": ".py",
   "mimetype": "text/x-python",
   "name": "python",
   "nbconvert_exporter": "python",
   "pygments_lexer": "ipython3",
   "version": "3.9.7"
  }
 },
 "nbformat": 4,
 "nbformat_minor": 5
}
